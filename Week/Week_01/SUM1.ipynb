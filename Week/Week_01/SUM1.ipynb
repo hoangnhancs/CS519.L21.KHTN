{
  "nbformat": 4,
  "nbformat_minor": 0,
  "metadata": {
    "colab": {
      "name": "SUM1.ipynb",
      "provenance": [],
      "include_colab_link": true
    },
    "kernelspec": {
      "name": "python3",
      "display_name": "Python 3"
    }
  },
  "cells": [
    {
      "cell_type": "markdown",
      "metadata": {
        "id": "view-in-github",
        "colab_type": "text"
      },
      "source": [
        "<a href=\"https://colab.research.google.com/github/hoangnhancs/CS519.L21.KHTN/blob/main/Week_01/SUM1.ipynb\" target=\"_parent\"><img src=\"https://colab.research.google.com/assets/colab-badge.svg\" alt=\"Open In Colab\"/></a>"
      ]
    },
    {
      "cell_type": "markdown",
      "metadata": {
        "id": "Hy3Mexsbx5ZV"
      },
      "source": [
        ""
      ]
    },
    {
      "cell_type": "markdown",
      "metadata": {
        "id": "ldaV9NGlx2Xy"
      },
      "source": [
        "##  <img src=\"https://www.uit.edu.vn/sites/vi/files/banner.png\" alt=\"UIT logo\" class=\"left\"><h1 align= \"center\">   <strong>     CS519.PHƯƠNG PHÁP LUẬN NGHIÊN CỨU KHOA HỌC</strong> </h1>"
      ]
    },
    {
      "cell_type": "markdown",
      "metadata": {
        "id": "_4DKgQyLyAzz"
      },
      "source": [
        " ## **CS519.L21.KHTN**\n",
        " \n",
        "|  STT | HỌ TÊN             | MSSV     | VAI TRÒ     | LIÊN HỆ |\n",
        "|---|--------------------|-----------------|----------------|---------|\n",
        "|**1** | **THÁI HOÀNG NHÂN**         | **18521182** | **NHÓM TRƯỞNG** |[**GitHub**](https://github.com/santheipman) **và** [**Gmail**](mailto:18520143@gm.uit.edu.vn)          |\n",
        "| **2** | **VÕ QUỐC AN**     | **18520440**| **THÀNH VIÊN**  | [**GitHub**](https://github.com/tienpm) **và** [**Gmail**](mailto:18520166@gm.uit.edu.vn)        |\n",
        "| **3** |**NGUYỄN VƯƠNG THỊNH** | **18520367** | **THÀNH VIÊN**  |  [**GitHub**](https://github.com/ThinhNguyen209) **và** [**Gmail**](mailto:18520367@gm.uit.edu.vn)      |"
      ]
    },
    {
      "cell_type": "markdown",
      "metadata": {
        "id": "leV3pnx0zsQD"
      },
      "source": [
        " # **SUM1 - TÓM TẮT BÀI GIẢNG BUỔI 1**"
      ]
    },
    {
      "cell_type": "markdown",
      "metadata": {
        "id": "KOLk4aO5zv5y"
      },
      "source": [
        "##**TÓM TẮT**\n",
        "* Nắm rõ hình thức đánh giá của môn học và thi cuối kì\n",
        "* Hiểu mục tiêu của môn học là đề ra proposal - bản đề cương NCKH\n",
        "* Học được một kỹ năng thiết yếu trong NCKH là observation ( từ observation -> why -> solution)\n",
        "* Giải đáp thắc mắc của sinh viên"
      ]
    },
    {
      "cell_type": "markdown",
      "metadata": {
        "id": "vju22jhlz1AQ"
      },
      "source": [
        " ## **GHI CHÚ**\r\n",
        " * Thi cuối kì là đề mở với 1-2 tờ giấy A4 được viết tay\r\n",
        " * Nộp đồ án kèm theo POSTER"
      ]
    },
    {
      "cell_type": "markdown",
      "metadata": {
        "id": "zV6caZdaz75w"
      },
      "source": [
        "## **CHỦ ĐỀ THẢO LUẬN**\n",
        "* Các đóng góp ý kiến, nguyện vọng của sinh viên trên classroom.\n",
        "* Thảo luận về kỹ năng observation"
      ]
    }
  ]
}
